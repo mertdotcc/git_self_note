{
 "cells": [
  {
   "cell_type": "markdown",
   "metadata": {},
   "source": [
    "`$ git log --oneline`<br>\n",
    "`$ git log --stat`\n",
    "\n",
    "`$ git log -p` to see the changes<br>\n",
    "`$ git show`\n",
    "\n",
    "`$ git log -p fdf5493`\n",
    "\n",
    "`$ git add` add files from the working directory to the staging index\n",
    "\n",
    "`$ git commit` take files from the staging index and save them in the repository\n",
    "\n",
    "`$ git diff` displays the difference between two versions of a file\n",
    "\n",
    "`$ git commit -m \"Initial commit\"`\n",
    "\n",
    "`$ git diff`\n",
    "\n",
    "`$ touch project.docx` creates a word file named project\n",
    "\n",
    "`$ git tag -a v1.0`\n",
    "\n",
    "`$ git log --decorate`\n",
    "\n",
    "`$ git tag -d v1.0` to delete a tag\n",
    "\n",
    "`$ git tag -a beta b552fa5` by default, we add tags to the last commit. but if we want to add a tag to a previous commit, we simply type the SHA of it.\n",
    "\n",
    "`$ git branch` will list out the branches in a repository\n",
    "\n",
    "`$ git branch sidebar` to create a branch named sidebar\n",
    "\n",
    "`$ git checkout sidebar` to switch from the master branch to sidebar branch\n",
    "\n",
    "`$ git branch -d sidebar` to delete a branch\n",
    "\n",
    "`$ git checkout -b richards-branch-for-awesome-changes` If you provide the `-b` flag, you can create a branch and switch to it all in one command.\n",
    "\n",
    "`$ git commit --amend` alter the most-recent commit\n",
    "\n",
    "`$ git reset` erases commits "
   ]
  },
  {
   "cell_type": "code",
   "execution_count": null,
   "metadata": {},
   "outputs": [],
   "source": []
  }
 ],
 "metadata": {
  "kernelspec": {
   "display_name": "Python 3",
   "language": "python",
   "name": "python3"
  },
  "language_info": {
   "codemirror_mode": {
    "name": "ipython",
    "version": 3
   },
   "file_extension": ".py",
   "mimetype": "text/x-python",
   "name": "python",
   "nbconvert_exporter": "python",
   "pygments_lexer": "ipython3",
   "version": "3.7.1"
  }
 },
 "nbformat": 4,
 "nbformat_minor": 2
}
